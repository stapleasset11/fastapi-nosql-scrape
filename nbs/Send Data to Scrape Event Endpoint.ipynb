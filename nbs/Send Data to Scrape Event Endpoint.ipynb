{
 "cells": [
  {
   "cell_type": "code",
   "execution_count": 22,
   "id": "e6bf490c",
   "metadata": {},
   "outputs": [
    {
     "name": "stdout",
     "output_type": "stream",
     "text": [
      "{'asin': 'http_test', 'title': 'abc123', 'price_str': '$19.99'}\n"
     ]
    }
   ],
   "source": [
    "import requests\n",
    "\n",
    "endpoint = \"http://127.0.0.1:8000/events/scrape\"\n",
    "asin = \"http_test\"\n",
    "r = requests.post(endpoint, json={\"asin\": asin, \"title\": \"abc123\", \"price_str\": \"$19.99\"})\n",
    "\n",
    "print(r.json())\n",
    "\n"
   ]
  },
  {
   "cell_type": "code",
   "execution_count": 23,
   "id": "3f8fe89e",
   "metadata": {},
   "outputs": [
    {
     "name": "stdout",
     "output_type": "stream",
     "text": [
      "17\n"
     ]
    }
   ],
   "source": [
    "endpoint2 = f\"http://127.0.0.1:8000/products/{asin}/events\"\n",
    "\n",
    "r2 = requests.get(endpoint2)\n",
    "print(len(r2.json()))\n"
   ]
  },
  {
   "cell_type": "code",
   "execution_count": 24,
   "id": "3f750492",
   "metadata": {},
   "outputs": [
    {
     "name": "stdout",
     "output_type": "stream",
     "text": [
      "https://345c-154-159-254-131.ngrok-free.app//events/scrape\n",
      "{'asin': 'http_test', 'title': 'abc123', 'price_str': '$19.99'}\n"
     ]
    }
   ],
   "source": [
    "import requests\n",
    "asin = \"http_test\"\n",
    "base_url = \"https://345c-154-159-254-131.ngrok-free.app/\"\n",
    "path = \"/events/scrape\"\n",
    "endpoint = f\"{base_url}{path}\"\n",
    "print(endpoint)\n",
    "r = requests.post(endpoint, json={\"asin\": asin, \"title\": \"abc123\", \"price_str\": \"$19.99\"})\n",
    "print(r.json())"
   ]
  },
  {
   "cell_type": "code",
   "execution_count": null,
   "id": "a71dfc8a",
   "metadata": {},
   "outputs": [],
   "source": []
  }
 ],
 "metadata": {
  "kernelspec": {
   "display_name": "venv",
   "language": "python",
   "name": "python3"
  },
  "language_info": {
   "codemirror_mode": {
    "name": "ipython",
    "version": 3
   },
   "file_extension": ".py",
   "mimetype": "text/x-python",
   "name": "python",
   "nbconvert_exporter": "python",
   "pygments_lexer": "ipython3",
   "version": "3.9.2"
  }
 },
 "nbformat": 4,
 "nbformat_minor": 5
}
