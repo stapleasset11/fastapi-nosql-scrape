{
 "cells": [
  {
   "cell_type": "code",
   "execution_count": 2,
   "id": "80b3706d-9c6b-46ce-b578-0701869ec271",
   "metadata": {},
   "outputs": [
    {
     "name": "stdout",
     "output_type": "stream",
     "text": [
      "/home/lenny/PROJECTS/fastapi-nosql-scrape\n"
     ]
    },
    {
     "name": "stderr",
     "output_type": "stream",
     "text": [
      "/home/lenny/PROJECTS/fastapi-nosql-scrape/venv/lib/python3.9/site-packages/IPython/core/magics/osm.py:417: UserWarning: using dhist requires you to install the `pickleshare` library.\n",
      "  self.shell.db['dhist'] = compress_dhist(dhist)[-100:]\n"
     ]
    }
   ],
   "source": [
    "cd '/home/lenny/PROJECTS/fastapi-nosql-scrape'\n"
   ]
  },
  {
   "cell_type": "code",
   "execution_count": 3,
   "id": "09d2c286-227d-4725-8b77-0a4d3cc16855",
   "metadata": {},
   "outputs": [],
   "source": [
    "from app.worker import random_task"
   ]
  },
  {
   "cell_type": "code",
   "execution_count": 4,
   "id": "2c3fe3d7-bc5c-47b1-b380-5a53388f045c",
   "metadata": {},
   "outputs": [
    {
     "name": "stdout",
     "output_type": "stream",
     "text": [
      "Who threw that shoe? Honestly Kanana\n"
     ]
    }
   ],
   "source": [
    "random_task(\"Kanana\")"
   ]
  },
  {
   "cell_type": "code",
   "execution_count": 5,
   "id": "a7228c6b-45f9-4b1f-acc5-426bc1415ec9",
   "metadata": {},
   "outputs": [
    {
     "data": {
      "text/plain": [
       "<AsyncResult: 5c676303-19df-4fbd-8431-bbfdfcf73614>"
      ]
     },
     "execution_count": 5,
     "metadata": {},
     "output_type": "execute_result"
    }
   ],
   "source": [
    "random_task.delay(\"Kanana\")"
   ]
  },
  {
   "cell_type": "code",
   "execution_count": 6,
   "id": "deb22731-a7a0-43e9-9d72-8b06a6fc19db",
   "metadata": {},
   "outputs": [],
   "source": [
    "for i in range(10):\n",
    "    random_task.delay(\"Kanana\")"
   ]
  },
  {
   "cell_type": "code",
   "execution_count": 7,
   "id": "ca04ef59-b2db-4ab8-93c7-52a60c1deaa3",
   "metadata": {},
   "outputs": [],
   "source": [
    "for i in range(10):\n",
    "    random_task.apply_async(args=(\"Kanana\",), countdown=10)"
   ]
  },
  {
   "cell_type": "code",
   "execution_count": null,
   "id": "85446fef-5f4f-4308-8971-1dbe77ec6183",
   "metadata": {},
   "outputs": [],
   "source": []
  }
 ],
 "metadata": {
  "kernelspec": {
   "display_name": "Python 3 (ipykernel)",
   "language": "python",
   "name": "python3"
  },
  "language_info": {
   "codemirror_mode": {
    "name": "ipython",
    "version": 3
   },
   "file_extension": ".py",
   "mimetype": "text/x-python",
   "name": "python",
   "nbconvert_exporter": "python",
   "pygments_lexer": "ipython3",
   "version": "3.9.2"
  }
 },
 "nbformat": 4,
 "nbformat_minor": 5
}
