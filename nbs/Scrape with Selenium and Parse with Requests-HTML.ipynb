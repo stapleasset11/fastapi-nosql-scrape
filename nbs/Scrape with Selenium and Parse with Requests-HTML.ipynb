{
 "cells": [
  {
   "cell_type": "code",
   "execution_count": 26,
   "id": "7c71bc5a",
   "metadata": {},
   "outputs": [
    {
     "name": "stdout",
     "output_type": "stream",
     "text": [
      "/home/lenny/PROJECTS/fastapi-nosql-scrape\n"
     ]
    }
   ],
   "source": [
    "cd '/home/lenny/PROJECTS/fastapi-nosql-scrape'\n"
   ]
  },
  {
   "cell_type": "code",
   "execution_count": 27,
   "id": "c179d04c-0374-4e12-8acb-b59ec11a1607",
   "metadata": {},
   "outputs": [
    {
     "name": "stdout",
     "output_type": "stream",
     "text": [
      "Requirement already satisfied: lxml[html_clean] in ./venv/lib/python3.9/site-packages (5.4.0)\n",
      "\u001b[33m  WARNING: lxml 5.4.0 does not provide the extra 'html_clean'\u001b[0m\n",
      "\u001b[33mWARNING: You are using pip version 20.2.3; however, version 25.1 is available.\n",
      "You should consider upgrading via the '/home/lenny/PROJECTS/fastapi-nosql-scrape/venv/bin/python3 -m pip install --upgrade pip' command.\u001b[0m\n",
      "Requirement already satisfied: lxml_html_clean in ./venv/lib/python3.9/site-packages (0.4.2)\n",
      "Requirement already satisfied: lxml in ./venv/lib/python3.9/site-packages (from lxml_html_clean) (5.4.0)\n",
      "\u001b[33mWARNING: You are using pip version 20.2.3; however, version 25.1 is available.\n",
      "You should consider upgrading via the '/home/lenny/PROJECTS/fastapi-nosql-scrape/venv/bin/python3 -m pip install --upgrade pip' command.\u001b[0m\n"
     ]
    }
   ],
   "source": [
    "!pip install \"lxml[html_clean]\"\n",
    "!pip install lxml_html_clean"
   ]
  },
  {
   "cell_type": "code",
   "execution_count": 59,
   "id": "29372d56",
   "metadata": {},
   "outputs": [],
   "source": [
    "import requests\n",
    "from requests_html import HTML\n",
    "from app import scraper\n",
    "from slugify import slugify\n",
    "import pprint\n",
    "import re"
   ]
  },
  {
   "cell_type": "code",
   "execution_count": 60,
   "id": "f7636923-f595-4de8-99cd-524a78837f10",
   "metadata": {},
   "outputs": [],
   "source": [
    "url = \"https://www.amazon.com/Vitamix-E310-Explorian-Professional-Grade-Container/dp/B0758JHZM3/ref=sr_1_3?dchild=1&keywords=vitamix&qid=1632337952&sr=8-3&th=1\"\n",
    "\n",
    "s = scraper.Scraper(url=url, endless_scroll=True)"
   ]
  },
  {
   "cell_type": "code",
   "execution_count": 61,
   "id": "9bbe1768-7f8b-4643-a6f7-45fcbf221514",
   "metadata": {},
   "outputs": [],
   "source": [
    "html_str = s.get()"
   ]
  },
  {
   "cell_type": "code",
   "execution_count": 62,
   "id": "1d8d433b-3541-4b05-b60b-2cc3c71b05b7",
   "metadata": {},
   "outputs": [],
   "source": [
    "html_obj = HTML(html=html_str)"
   ]
  },
  {
   "cell_type": "code",
   "execution_count": 63,
   "id": "e4393f55-dd90-4ce0-b4a0-37c8167da478",
   "metadata": {},
   "outputs": [
    {
     "data": {
      "text/plain": [
       "[<Element 'table' class=('a-lineitem',)>,\n",
       " <Element 'table' class=('a-normal', 'a-spacing-none', 'reInventPriceTable')>,\n",
       " <Element 'table' class=('a-lineitem',)>,\n",
       " <Element 'table' class=('a-normal', 'a-spacing-micro')>,\n",
       " <Element 'table' class=('a-normal',)>,\n",
       " <Element 'table' class=('a-normal',)>,\n",
       " <Element 'table' class=('a-normal',)>,\n",
       " <Element 'table' class=('a-normal',)>,\n",
       " <Element 'table' class=('a-normal',)>,\n",
       " <Element 'table' id='productDetails_detailBullets_sections1' class=('a-keyvalue', 'prodDetTable')>,\n",
       " <Element 'table' id='productDetails_feedback_sections' class=('a-keyvalue', 'prodDetTable') role='presentation'>,\n",
       " <Element 'table' class=('a-bordered', 'a-horizontal-stripes', 'a-spacing-none', 'a-size-small', '_product-comparison-desktop_desktopFaceoutStyle_comparisonTable__hYFf4') data-mix-operations='process-swatch-click'>]"
      ]
     },
     "execution_count": 63,
     "metadata": {},
     "output_type": "execute_result"
    }
   ],
   "source": [
    "tables = html_obj.find(\"table\")\n",
    "tables"
   ]
  },
  {
   "cell_type": "code",
   "execution_count": 64,
   "id": "f9812355-6318-49af-9419-399780d4de19",
   "metadata": {},
   "outputs": [
    {
     "data": {
      "text/plain": [
       "'Vitamix E310 Explorian Blender, Professional-Grade, 48 Oz. Container, Black'"
      ]
     },
     "execution_count": 64,
     "metadata": {},
     "output_type": "execute_result"
    }
   ],
   "source": [
    "title_str = html_obj.find(\"#productTitle\", first=True).text\n",
    "title_str"
   ]
  },
  {
   "cell_type": "code",
   "execution_count": 65,
   "id": "0704da27-0551-4818-a1f0-cf0385fda0bd",
   "metadata": {},
   "outputs": [
    {
     "data": {
      "text/plain": [
       "''"
      ]
     },
     "execution_count": 65,
     "metadata": {},
     "output_type": "execute_result"
    }
   ],
   "source": [
    "def extract_element_text(html_obj, element_id):\n",
    "    el =  html_obj.find(element_id, first=True)\n",
    "    if not el:\n",
    "        return ''\n",
    "    return el.text\n",
    "\n",
    "price_str = extract_element_text(html_obj, '#priceblock_ourprice')\n",
    "price_str"
   ]
  },
  {
   "cell_type": "code",
   "execution_count": 66,
   "id": "8ba50318-deac-490a-b2f2-0741d3b38073",
   "metadata": {},
   "outputs": [],
   "source": [
    "def extract_price_from_string(value: str, regex=r\"[\\$]{1}[\\d,]+\\.?\\d{0,2}\"):\n",
    "    x = re.findall(regex, value)\n",
    "    val = None\n",
    "    if len(x) == 1:\n",
    "        val = x[0]\n",
    "    return val"
   ]
  },
  {
   "cell_type": "code",
   "execution_count": 67,
   "id": "0528ea4d-3387-49df-bed6-318ade6548a5",
   "metadata": {},
   "outputs": [],
   "source": [
    "\n",
    "\n",
    "def extract_dataset(tables):\n",
    "    dataset = {}\n",
    "    for table in tables:\n",
    "        for tbody in table.element.getchildren():\n",
    "            for tr in tbody.getchildren():\n",
    "                row = []\n",
    "                for col in tr.getchildren():\n",
    "                    content = \"\"\n",
    "                    try:\n",
    "                        content = col.text_content()\n",
    "                    except:\n",
    "                        pass\n",
    "                    if content != \"\":\n",
    "                        _content = content.strip()\n",
    "                        row.append(_content)\n",
    "                if len(row) != 2:\n",
    "                    continue\n",
    "                key = row[0]\n",
    "                value = row[1]\n",
    "                \n",
    "                # print(key, value)\n",
    "                data = {}\n",
    "                key = slugify(key)\n",
    "                if key in dataset:\n",
    "                    continue\n",
    "                else:\n",
    "                    if \"$\" in value:\n",
    "                        new_key = key\n",
    "                        old_key = f'{key}_raw'\n",
    "                        new_value = extract_price_from_string(value)\n",
    "                        old_value = value\n",
    "                        dataset[new_key] = new_value\n",
    "                        dataset[old_key] = old_value\n",
    "                    else:\n",
    "                        dataset[key] = value\n",
    "    return dataset\n",
    "\n"
   ]
  },
  {
   "cell_type": "code",
   "execution_count": 68,
   "id": "f6509192-8be2-4c61-b81a-4058bee317a1",
   "metadata": {},
   "outputs": [
    {
     "name": "stdout",
     "output_type": "stream",
     "text": [
      "{'': 'Material BPA-free Eastman Tritan® copolyester',\n",
      " 'asin': 'B0758JHZM3',\n",
      " 'assembly-required': 'No',\n",
      " 'batteries-required': 'No',\n",
      " 'best-sellers-rank': '#2,061 in Kitchen & Dining (See Top 100 in Kitchen & '\n",
      "                      'Dining)  #12 in Countertop Blenders',\n",
      " 'blade-material': 'Stainless Steel',\n",
      " 'brand': 'Vitamix',\n",
      " 'capacity': '48 Fluid Ounces',\n",
      " 'care-instructions': 'Dishwasher Safe',\n",
      " 'color': 'Black',\n",
      " 'controls-type': 'Physical',\n",
      " 'country-of-origin': 'USA',\n",
      " 'customer-reviews': '4.6  4.6 out of 5 stars    \\n'\n",
      "                     '    5,288 ratings   \\n'\n",
      "                     '                    \\n'\n",
      "                     '                    var '\n",
      "                     'dpAcrHasRegisteredArcLinkClickAction;\\n'\n",
      "                     \"                    P.when('A', \"\n",
      "                     \"'ready').execute(function(A) {\\n\"\n",
      "                     '                        if '\n",
      "                     '(dpAcrHasRegisteredArcLinkClickAction !== true) {\\n'\n",
      "                     '                            '\n",
      "                     'dpAcrHasRegisteredArcLinkClickAction = true;\\n'\n",
      "                     '                            A.declarative(\\n'\n",
      "                     \"                                'acrLink-click-metrics', \"\n",
      "                     \"'click',\\n\"\n",
      "                     '                                { \"allowLinkDefault\": '\n",
      "                     'true },\\n'\n",
      "                     '                                function (event) {\\n'\n",
      "                     '                                    if (window.ue) {\\n'\n",
      "                     '                                        '\n",
      "                     'ue.count(\"acrLinkClickCount\", '\n",
      "                     '(ue.count(\"acrLinkClickCount\") || 0) + 1);\\n'\n",
      "                     '                                    }\\n'\n",
      "                     '                                }\\n'\n",
      "                     '                            );\\n'\n",
      "                     '                        }\\n'\n",
      "                     '                    });\\n'\n",
      "                     '                \\n'\n",
      "                     '\\n'\n",
      "                     \"            P.when('A', 'cf').execute(function(A) {\\n\"\n",
      "                     '                '\n",
      "                     \"A.declarative('acrStarsLink-click-metrics', 'click', { \"\n",
      "                     '\"allowLinkDefault\" : true },  function(event){\\n'\n",
      "                     '                    if(window.ue) {\\n'\n",
      "                     '                        '\n",
      "                     'ue.count(\"acrStarsLinkWithPopoverClickCount\", '\n",
      "                     '(ue.count(\"acrStarsLinkWithPopoverClickCount\") || 0) + '\n",
      "                     '1);\\n'\n",
      "                     '                    }\\n'\n",
      "                     '                });\\n'\n",
      "                     '            });\\n'\n",
      "                     '        \\n'\n",
      "                     '\\n'\n",
      "                     ' 4.6 out of 5 stars',\n",
      " 'global-trade-identification-number': '00703113640681',\n",
      " 'import': 'Made in USA',\n",
      " 'included-components': 'Motor Base, Juice Container, Tamper, Cookbook',\n",
      " 'is-discontinued-by-manufacturer': 'No',\n",
      " 'item-model-number': 'VM0197',\n",
      " 'item-weight': '10.5 pounds',\n",
      " 'item-weight-10-5-pounds': 'Is Dishwasher Safe Yes',\n",
      " 'manufacturer': 'Vitamix',\n",
      " 'material-bpa-free-eastman-tritan-r-copolyester': 'Wattage 1400 watts',\n",
      " 'material-type-free': 'BPA Free',\n",
      " 'number-of-pieces': '4',\n",
      " 'number-of-speeds': '10',\n",
      " 'power-source': 'Corded Electric',\n",
      " 'product-dimensions': '11\"D x 8\"W x 18\"H',\n",
      " 'recommended-uses-for-product': 'Blending, Emulsifying, Chopping, Creams, '\n",
      "                                 'Coffee, Grinding',\n",
      " 'special-feature': 'Blends',\n",
      " 'style': 'Blender',\n",
      " 'total': '$622.43',\n",
      " 'total_raw': '$622.43',\n",
      " 'upc': '703113640681 810002431227',\n",
      " 'voltage': '120',\n",
      " 'warranty-description': '5-year full warranty covers parts, labor and return '\n",
      "                         'shipping both ways.',\n",
      " 'warranty-type': '5-year full warranty covers parts, labor and return '\n",
      "                  'shipping both ways.'}\n"
     ]
    }
   ],
   "source": [
    "dataset = extract_dataset(tables)\n",
    "pprint.pprint(dataset)"
   ]
  },
  {
   "cell_type": "code",
   "execution_count": null,
   "id": "ae5f6a35-78b7-4240-8311-1569f39e0ad6",
   "metadata": {},
   "outputs": [],
   "source": []
  },
  {
   "cell_type": "code",
   "execution_count": null,
   "id": "5130ae9e-846d-4440-b89c-ba94eb371537",
   "metadata": {},
   "outputs": [],
   "source": []
  }
 ],
 "metadata": {
  "kernelspec": {
   "display_name": "Python 3 (ipykernel)",
   "language": "python",
   "name": "python3"
  },
  "language_info": {
   "codemirror_mode": {
    "name": "ipython",
    "version": 3
   },
   "file_extension": ".py",
   "mimetype": "text/x-python",
   "name": "python",
   "nbconvert_exporter": "python",
   "pygments_lexer": "ipython3",
   "version": "3.9.2"
  }
 },
 "nbformat": 4,
 "nbformat_minor": 5
}
