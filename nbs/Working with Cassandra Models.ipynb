{
 "cells": [
  {
   "cell_type": "code",
   "execution_count": 7,
   "id": "80b3706d-9c6b-46ce-b578-0701869ec271",
   "metadata": {},
   "outputs": [
    {
     "name": "stdout",
     "output_type": "stream",
     "text": [
      "/home/lenny/PROJECTS/fastapi-nosql-scrape\n"
     ]
    },
    {
     "name": "stderr",
     "output_type": "stream",
     "text": [
      "/home/lenny/PROJECTS/fastapi-nosql-scrape/venv/lib/python3.9/site-packages/IPython/core/magics/osm.py:417: UserWarning: using dhist requires you to install the `pickleshare` library.\n",
      "  self.shell.db['dhist'] = compress_dhist(dhist)[-100:]\n"
     ]
    }
   ],
   "source": [
    "cd '/home/lenny/PROJECTS/fastapi-nosql-scrape'\n"
   ]
  },
  {
   "cell_type": "code",
   "execution_count": 8,
   "id": "3d255ed8-02c9-4a08-bef7-496efb417660",
   "metadata": {},
   "outputs": [],
   "source": [
    "from app import db, crud, models"
   ]
  },
  {
   "cell_type": "code",
   "execution_count": 9,
   "id": "11506c0d-27e3-4570-91c5-b66a64979b70",
   "metadata": {},
   "outputs": [],
   "source": [
    "session = db.get_session()"
   ]
  },
  {
   "cell_type": "code",
   "execution_count": 10,
   "id": "fb8d0615-d39d-406f-afbd-27e70a75f789",
   "metadata": {},
   "outputs": [
    {
     "data": {
      "text/plain": [
       "{'asin': 'TESTING123D', 'title': 'Mark 1adsf'}"
      ]
     },
     "execution_count": 10,
     "metadata": {},
     "output_type": "execute_result"
    }
   ],
   "source": [
    "data = models.data\n",
    "data"
   ]
  },
  {
   "cell_type": "code",
   "execution_count": 11,
   "id": "c8b9c318-5b28-4e22-bce5-4751dd807758",
   "metadata": {},
   "outputs": [
    {
     "data": {
      "text/plain": [
       "(Product(asin='TESTING123D', title='Mark 1adsf', price_str='-100'),\n",
       " ProductScrapeEvent(uuid=UUID('0f5220ca-242f-11f0-bf02-b88a605ab2d4'), asin='TESTING123D', title='Mark 1adsf', price_str='-100'))"
      ]
     },
     "execution_count": 11,
     "metadata": {},
     "output_type": "execute_result"
    }
   ],
   "source": [
    "crud.add_scrape_event(data, fresh=True)"
   ]
  },
  {
   "cell_type": "code",
   "execution_count": 12,
   "id": "70de4ae5-86f6-4812-af39-0961c5be7b3b",
   "metadata": {},
   "outputs": [
    {
     "name": "stdout",
     "output_type": "stream",
     "text": [
      "TESTING123D\n"
     ]
    }
   ],
   "source": [
    "asin = \"TESTING123D\"\n",
    "for obj in models.Product.objects().all():\n",
    "    print(obj.asin)"
   ]
  },
  {
   "cell_type": "code",
   "execution_count": 13,
   "id": "aed7b9c6-a3df-4a19-9659-faea8e05ebd3",
   "metadata": {},
   "outputs": [
    {
     "name": "stdout",
     "output_type": "stream",
     "text": [
      "Scrape events for TESTING123D\n",
      "0 TESTING123D 584e707c-242e-11f0-bf02-b88a605ab2d4\n",
      "1 TESTING123D 623b2a4a-242d-11f0-bf02-b88a605ab2d4\n",
      "2 TESTING123D fb08f4be-242d-11f0-bf02-b88a605ab2d4\n",
      "3 TESTING123D cd5decfe-242d-11f0-bf02-b88a605ab2d4\n",
      "4 TESTING123D 0f5220ca-242f-11f0-bf02-b88a605ab2d4\n"
     ]
    }
   ],
   "source": [
    "if asin is not None:\n",
    "    print(f\"Scrape events for {asin}\")\n",
    "    q = models.ProductScrapeEvent.objects.filter(asin=asin)\n",
    "    for i, obj in enumerate(q):\n",
    "        print(i, obj.asin, obj.uuid)"
   ]
  }
 ],
 "metadata": {
  "kernelspec": {
   "display_name": "Python 3 (ipykernel)",
   "language": "python",
   "name": "python3"
  },
  "language_info": {
   "codemirror_mode": {
    "name": "ipython",
    "version": 3
   },
   "file_extension": ".py",
   "mimetype": "text/x-python",
   "name": "python",
   "nbconvert_exporter": "python",
   "pygments_lexer": "ipython3",
   "version": "3.9.2"
  }
 },
 "nbformat": 4,
 "nbformat_minor": 5
}
