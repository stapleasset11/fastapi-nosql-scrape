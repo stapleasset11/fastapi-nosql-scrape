{
 "cells": [
  {
   "cell_type": "code",
   "execution_count": 6,
   "id": "7c71bc5a",
   "metadata": {},
   "outputs": [
    {
     "name": "stdout",
     "output_type": "stream",
     "text": [
      "/home/lenny/PROJECTS/fastapi-nosql-scrape\n"
     ]
    },
    {
     "name": "stderr",
     "output_type": "stream",
     "text": [
      "/home/lenny/PROJECTS/fastapi-nosql-scrape/venv/lib/python3.9/site-packages/IPython/core/magics/osm.py:417: UserWarning: using dhist requires you to install the `pickleshare` library.\n",
      "  self.shell.db['dhist'] = compress_dhist(dhist)[-100:]\n"
     ]
    }
   ],
   "source": [
    "cd '/home/lenny/PROJECTS/fastapi-nosql-scrape'\n"
   ]
  },
  {
   "cell_type": "code",
   "execution_count": 7,
   "id": "c179d04c-0374-4e12-8acb-b59ec11a1607",
   "metadata": {},
   "outputs": [
    {
     "name": "stdout",
     "output_type": "stream",
     "text": [
      "Requirement already satisfied: lxml[html_clean] in ./venv/lib/python3.9/site-packages (5.4.0)\n",
      "\u001b[33m  WARNING: lxml 5.4.0 does not provide the extra 'html_clean'\u001b[0m\n",
      "\u001b[33mWARNING: You are using pip version 20.2.3; however, version 25.1 is available.\n",
      "You should consider upgrading via the '/home/lenny/PROJECTS/fastapi-nosql-scrape/venv/bin/python3 -m pip install --upgrade pip' command.\u001b[0m\n",
      "Requirement already satisfied: lxml_html_clean in ./venv/lib/python3.9/site-packages (0.4.2)\n",
      "Requirement already satisfied: lxml in ./venv/lib/python3.9/site-packages (from lxml_html_clean) (5.4.0)\n",
      "\u001b[33mWARNING: You are using pip version 20.2.3; however, version 25.1 is available.\n",
      "You should consider upgrading via the '/home/lenny/PROJECTS/fastapi-nosql-scrape/venv/bin/python3 -m pip install --upgrade pip' command.\u001b[0m\n"
     ]
    }
   ],
   "source": [
    "!pip install \"lxml[html_clean]\"\n",
    "!pip install lxml_html_clean"
   ]
  },
  {
   "cell_type": "code",
   "execution_count": 8,
   "id": "29372d56",
   "metadata": {},
   "outputs": [],
   "source": [
    "import requests\n",
    "from requests_html import HTML\n",
    "from app import worker, db\n",
    "from slugify import slugify\n",
    "import pprint\n",
    "import re"
   ]
  },
  {
   "cell_type": "code",
   "execution_count": 9,
   "id": "f7636923-f595-4de8-99cd-524a78837f10",
   "metadata": {},
   "outputs": [],
   "source": [
    "# asin = \"B0758JHZM3\"\n",
    "# # url = f\"https://www.amazon.com/dp/{asin}/\"\n",
    "# # url\n",
    "session = db.get_session()"
   ]
  },
  {
   "cell_type": "code",
   "execution_count": 10,
   "id": "9bbe1768-7f8b-4643-a6f7-45fcbf221514",
   "metadata": {},
   "outputs": [
    {
     "data": {
      "text/plain": [
       "('B0758JHZM3', True)"
      ]
     },
     "execution_count": 10,
     "metadata": {},
     "output_type": "execute_result"
    }
   ],
   "source": [
    "asin = \"B0758JHZM3\"\n",
    "worker.scrape_asin(asin)"
   ]
  },
  {
   "cell_type": "code",
   "execution_count": 11,
   "id": "337c07bf-87ab-40dc-bfa6-ac595f97d437",
   "metadata": {},
   "outputs": [
    {
     "data": {
      "text/plain": [
       "<AsyncResult: 8553b644-5763-4be9-bddf-6d732af83ec5>"
      ]
     },
     "execution_count": 11,
     "metadata": {},
     "output_type": "execute_result"
    }
   ],
   "source": [
    "asin = \"B0758JHZMdasdfasdfads3\"\n",
    "worker.scrape_asin.delay(asin)"
   ]
  },
  {
   "cell_type": "code",
   "execution_count": 12,
   "id": "4b9bbbd4-24c4-4c32-aa9e-f1e394e5954f",
   "metadata": {},
   "outputs": [
    {
     "data": {
      "text/plain": [
       "('B0758JHZMdasdfasdfads3', False)"
      ]
     },
     "execution_count": 12,
     "metadata": {},
     "output_type": "execute_result"
    }
   ],
   "source": [
    "asin = \"B0758JHZMdasdfasdfads3\"\n",
    "worker.scrape_asin(asin)"
   ]
  },
  {
   "cell_type": "code",
   "execution_count": null,
   "id": "2bc712ac-ec8e-481d-a373-225d98fff421",
   "metadata": {},
   "outputs": [],
   "source": []
  }
 ],
 "metadata": {
  "kernelspec": {
   "display_name": "Python 3 (ipykernel)",
   "language": "python",
   "name": "python3"
  },
  "language_info": {
   "codemirror_mode": {
    "name": "ipython",
    "version": 3
   },
   "file_extension": ".py",
   "mimetype": "text/x-python",
   "name": "python",
   "nbconvert_exporter": "python",
   "pygments_lexer": "ipython3",
   "version": "3.9.2"
  }
 },
 "nbformat": 4,
 "nbformat_minor": 5
}
