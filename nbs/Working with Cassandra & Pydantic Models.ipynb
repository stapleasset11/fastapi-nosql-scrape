{
 "cells": [
  {
   "cell_type": "code",
   "execution_count": 1,
   "id": "80b3706d-9c6b-46ce-b578-0701869ec271",
   "metadata": {},
   "outputs": [
    {
     "name": "stdout",
     "output_type": "stream",
     "text": [
      "/home/lenny/PROJECTS/fastapi-nosql-scrape\n"
     ]
    },
    {
     "name": "stderr",
     "output_type": "stream",
     "text": [
      "/home/lenny/PROJECTS/fastapi-nosql-scrape/venv/lib/python3.9/site-packages/IPython/core/magics/osm.py:417: UserWarning: using dhist requires you to install the `pickleshare` library.\n",
      "  self.shell.db['dhist'] = compress_dhist(dhist)[-100:]\n"
     ]
    }
   ],
   "source": [
    "cd '/home/lenny/PROJECTS/fastapi-nosql-scrape'\n"
   ]
  },
  {
   "cell_type": "code",
   "execution_count": 2,
   "id": "09d2c286-227d-4725-8b77-0a4d3cc16855",
   "metadata": {},
   "outputs": [],
   "source": [
    "from app import db, crud, models"
   ]
  },
  {
   "cell_type": "code",
   "execution_count": 3,
   "id": "86267193-c0fa-4353-83aa-36e2c2f908dc",
   "metadata": {},
   "outputs": [],
   "source": [
    "session = db.get_session()"
   ]
  },
  {
   "cell_type": "code",
   "execution_count": 4,
   "id": "f787c7b1-bbc2-42eb-98a5-4ba158cc5fe0",
   "metadata": {},
   "outputs": [
    {
     "data": {
      "text/plain": [
       "{'asin': 'TESTING123D', 'title': 'Mark 1adsf'}"
      ]
     },
     "execution_count": 4,
     "metadata": {},
     "output_type": "execute_result"
    }
   ],
   "source": [
    "data = models.data\n",
    "data"
   ]
  },
  {
   "cell_type": "code",
   "execution_count": 5,
   "id": "e0a7c11e-6a2d-46f5-8978-28c42820aeae",
   "metadata": {},
   "outputs": [
    {
     "data": {
      "text/plain": [
       "(Product(asin='TESTING123D', title='Mark 1adsf', price_str='-100'),\n",
       " ProductScrapeEvent(uuid=UUID('e81b489e-2436-11f0-bf02-b88a605ab2d4'), asin='TESTING123D', title='Mark 1adsf', price_str='-100'))"
      ]
     },
     "execution_count": 5,
     "metadata": {},
     "output_type": "execute_result"
    }
   ],
   "source": [
    "crud.add_scrape_event(data, fresh=True)"
   ]
  },
  {
   "cell_type": "code",
   "execution_count": 6,
   "id": "ee488946-fde2-4a70-bc00-ada1f4df9d3b",
   "metadata": {},
   "outputs": [
    {
     "name": "stdout",
     "output_type": "stream",
     "text": [
      "TESTING123D\n"
     ]
    }
   ],
   "source": [
    "asin = \"TESTING123D\"\n",
    "for obj in models.Product.objects().all():\n",
    "    print(obj.asin)"
   ]
  },
  {
   "cell_type": "code",
   "execution_count": 7,
   "id": "2b706aa5-3e47-427a-beb4-1d1af8748146",
   "metadata": {},
   "outputs": [
    {
     "name": "stdout",
     "output_type": "stream",
     "text": [
      "Scrape events for TESTING123D\n",
      "0 TESTING123D e81b489e-2436-11f0-bf02-b88a605ab2d4\n"
     ]
    }
   ],
   "source": [
    "\n",
    "\n",
    "if asin is not None:\n",
    "    print(f\"Scrape events for {asin}\")\n",
    "    q = models.ProductScrapeEvent.objects.filter(asin=asin)\n",
    "    for i, obj in enumerate(q):\n",
    "        print(i, obj.asin, obj.uuid)\n",
    "\n"
   ]
  },
  {
   "cell_type": "code",
   "execution_count": null,
   "id": "db63bafe-5c27-4bab-adae-ba370647bccc",
   "metadata": {},
   "outputs": [],
   "source": []
  },
  {
   "cell_type": "code",
   "execution_count": null,
   "id": "d9fb839b-0854-4c42-bbff-d3c9203cae4f",
   "metadata": {},
   "outputs": [],
   "source": []
  }
 ],
 "metadata": {
  "kernelspec": {
   "display_name": "venv",
   "language": "python",
   "name": "python3"
  },
  "language_info": {
   "codemirror_mode": {
    "name": "ipython",
    "version": 3
   },
   "file_extension": ".py",
   "mimetype": "text/x-python",
   "name": "python",
   "nbconvert_exporter": "python",
   "pygments_lexer": "ipython3",
   "version": "3.9.2"
  }
 },
 "nbformat": 4,
 "nbformat_minor": 5
}
