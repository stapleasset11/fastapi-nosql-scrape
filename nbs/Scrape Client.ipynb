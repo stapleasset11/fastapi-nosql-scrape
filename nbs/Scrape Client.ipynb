{
 "cells": [
  {
   "cell_type": "code",
   "execution_count": 1,
   "id": "7c71bc5a",
   "metadata": {},
   "outputs": [
    {
     "name": "stdout",
     "output_type": "stream",
     "text": [
      "/home/lenny/PROJECTS/fastapi-nosql-scrape\n"
     ]
    },
    {
     "name": "stderr",
     "output_type": "stream",
     "text": [
      "/home/lenny/PROJECTS/fastapi-nosql-scrape/venv/lib/python3.9/site-packages/IPython/core/magics/osm.py:417: UserWarning: using dhist requires you to install the `pickleshare` library.\n",
      "  self.shell.db['dhist'] = compress_dhist(dhist)[-100:]\n"
     ]
    }
   ],
   "source": [
    "cd '/home/lenny/PROJECTS/fastapi-nosql-scrape'\n"
   ]
  },
  {
   "cell_type": "code",
   "execution_count": 2,
   "id": "c179d04c-0374-4e12-8acb-b59ec11a1607",
   "metadata": {},
   "outputs": [
    {
     "name": "stdout",
     "output_type": "stream",
     "text": [
      "Requirement already satisfied: lxml[html_clean] in ./venv/lib/python3.9/site-packages (5.4.0)\n",
      "\u001b[33m  WARNING: lxml 5.4.0 does not provide the extra 'html_clean'\u001b[0m\n",
      "\u001b[33mWARNING: You are using pip version 20.2.3; however, version 25.1 is available.\n",
      "You should consider upgrading via the '/home/lenny/PROJECTS/fastapi-nosql-scrape/venv/bin/python3 -m pip install --upgrade pip' command.\u001b[0m\n",
      "Requirement already satisfied: lxml_html_clean in ./venv/lib/python3.9/site-packages (0.4.2)\n",
      "Requirement already satisfied: lxml in ./venv/lib/python3.9/site-packages (from lxml_html_clean) (5.4.0)\n",
      "\u001b[33mWARNING: You are using pip version 20.2.3; however, version 25.1 is available.\n",
      "You should consider upgrading via the '/home/lenny/PROJECTS/fastapi-nosql-scrape/venv/bin/python3 -m pip install --upgrade pip' command.\u001b[0m\n"
     ]
    }
   ],
   "source": [
    "!pip install \"lxml[html_clean]\"\n",
    "!pip install lxml_html_clean"
   ]
  },
  {
   "cell_type": "code",
   "execution_count": 3,
   "id": "29372d56",
   "metadata": {},
   "outputs": [],
   "source": [
    "import requests\n",
    "from requests_html import HTML\n",
    "from app import scraper\n",
    "from slugify import slugify\n",
    "import pprint\n",
    "import re"
   ]
  },
  {
   "cell_type": "code",
   "execution_count": 4,
   "id": "f7636923-f595-4de8-99cd-524a78837f10",
   "metadata": {},
   "outputs": [],
   "source": [
    "url = \"https://www.amazon.com/Vitamix-E310-Explorian-Professional-Grade-Container/dp/B0758JHZM3/ref=sr_1_3?dchild=1&keywords=vitamix&qid=1632337952&sr=8-3&th=1\"\n",
    "\n",
    "s = scraper.Scraper(url=url, endless_scroll=True)"
   ]
  },
  {
   "cell_type": "code",
   "execution_count": 5,
   "id": "9bbe1768-7f8b-4643-a6f7-45fcbf221514",
   "metadata": {},
   "outputs": [
    {
     "name": "stderr",
     "output_type": "stream",
     "text": [
      "Error sending stats to Plausible: error sending request for url (https://plausible.io/api/event)\n"
     ]
    },
    {
     "data": {
      "text/plain": [
       "{'price_str': '',\n",
       " 'title_str': 'Vitamix E310 Explorian Blender, Professional-Grade, 48 Oz. Container, Black',\n",
       " 'total': '$622.43',\n",
       " 'total_raw': '$622.43',\n",
       " 'brand': 'Vitamix',\n",
       " 'color': 'Black',\n",
       " 'special-feature': 'Blends',\n",
       " 'capacity': '48 Fluid Ounces',\n",
       " 'product-dimensions': '11\"D x 8\"W x 18\"H',\n",
       " 'material-bpa-free-eastman-tritan-r-copolyester': 'Wattage 1400 watts',\n",
       " 'item-weight-10-5-pounds': 'Is Dishwasher Safe Yes',\n",
       " '': 'Material BPA-free Eastman Tritan® copolyester',\n",
       " 'included-components': 'Motor Base, Juice Container, Tamper, Cookbook',\n",
       " 'style': 'Blender',\n",
       " 'recommended-uses-for-product': 'Blending, Emulsifying, Chopping, Creams, Coffee, Grinding',\n",
       " 'power-source': 'Corded Electric',\n",
       " 'number-of-speeds': '10',\n",
       " 'voltage': '120',\n",
       " 'controls-type': 'Physical',\n",
       " 'material-type-free': 'BPA Free',\n",
       " 'blade-material': 'Stainless Steel',\n",
       " 'warranty-type': '5-year full warranty covers parts, labor and return shipping both ways.',\n",
       " 'upc': '703113640681 810002431227',\n",
       " 'global-trade-identification-number': '00703113640681',\n",
       " 'manufacturer': 'Vitamix',\n",
       " 'item-weight': '10.5 pounds',\n",
       " 'asin': 'B0758JHZM3',\n",
       " 'country-of-origin': 'USA',\n",
       " 'item-model-number': 'VM0197',\n",
       " 'customer-reviews': '4.6  4.6 out of 5 stars    \\n    5,288 ratings   \\n                    \\n                    var dpAcrHasRegisteredArcLinkClickAction;\\n                    P.when(\\'A\\', \\'ready\\').execute(function(A) {\\n                        if (dpAcrHasRegisteredArcLinkClickAction !== true) {\\n                            dpAcrHasRegisteredArcLinkClickAction = true;\\n                            A.declarative(\\n                                \\'acrLink-click-metrics\\', \\'click\\',\\n                                { \"allowLinkDefault\": true },\\n                                function (event) {\\n                                    if (window.ue) {\\n                                        ue.count(\"acrLinkClickCount\", (ue.count(\"acrLinkClickCount\") || 0) + 1);\\n                                    }\\n                                }\\n                            );\\n                        }\\n                    });\\n                \\n\\n            P.when(\\'A\\', \\'cf\\').execute(function(A) {\\n                A.declarative(\\'acrStarsLink-click-metrics\\', \\'click\\', { \"allowLinkDefault\" : true },  function(event){\\n                    if(window.ue) {\\n                        ue.count(\"acrStarsLinkWithPopoverClickCount\", (ue.count(\"acrStarsLinkWithPopoverClickCount\") || 0) + 1);\\n                    }\\n                });\\n            });\\n        \\n\\n 4.6 out of 5 stars',\n",
       " 'best-sellers-rank': '#2,061 in Kitchen & Dining (See Top 100 in Kitchen & Dining)  #12 in Countertop Blenders',\n",
       " 'is-discontinued-by-manufacturer': 'No',\n",
       " 'care-instructions': 'Dishwasher Safe',\n",
       " 'assembly-required': 'No',\n",
       " 'number-of-pieces': '4',\n",
       " 'warranty-description': '5-year full warranty covers parts, labor and return shipping both ways.',\n",
       " 'batteries-required': 'No',\n",
       " 'import': 'Made in USA'}"
      ]
     },
     "execution_count": 5,
     "metadata": {},
     "output_type": "execute_result"
    }
   ],
   "source": [
    "dataset = s.scrape()\n",
    "dataset"
   ]
  },
  {
   "cell_type": "code",
   "execution_count": null,
   "id": "5130ae9e-846d-4440-b89c-ba94eb371537",
   "metadata": {},
   "outputs": [],
   "source": []
  }
 ],
 "metadata": {
  "kernelspec": {
   "display_name": "Python 3 (ipykernel)",
   "language": "python",
   "name": "python3"
  },
  "language_info": {
   "codemirror_mode": {
    "name": "ipython",
    "version": 3
   },
   "file_extension": ".py",
   "mimetype": "text/x-python",
   "name": "python",
   "nbconvert_exporter": "python",
   "pygments_lexer": "ipython3",
   "version": "3.9.2"
  }
 },
 "nbformat": 4,
 "nbformat_minor": 5
}
