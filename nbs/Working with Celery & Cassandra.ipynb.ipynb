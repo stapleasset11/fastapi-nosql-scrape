{
 "cells": [
  {
   "cell_type": "code",
   "execution_count": 5,
   "id": "6a70fbdf-9518-49da-85cc-b0d689476f9b",
   "metadata": {},
   "outputs": [
    {
     "name": "stdout",
     "output_type": "stream",
     "text": [
      "/home/lenny/PROJECTS/fastapi-nosql-scrape\n"
     ]
    },
    {
     "name": "stderr",
     "output_type": "stream",
     "text": [
      "/home/lenny/PROJECTS/fastapi-nosql-scrape/venv/lib/python3.9/site-packages/IPython/core/magics/osm.py:417: UserWarning: using dhist requires you to install the `pickleshare` library.\n",
      "  self.shell.db['dhist'] = compress_dhist(dhist)[-100:]\n"
     ]
    }
   ],
   "source": [
    "cd '/home/lenny/PROJECTS/fastapi-nosql-scrape'"
   ]
  },
  {
   "cell_type": "code",
   "execution_count": 9,
   "id": "e3b2d001-eb89-41b3-b2e7-d126a3bc4fd0",
   "metadata": {},
   "outputs": [],
   "source": [
    "from app.worker import list_products\n",
    "from app import db"
   ]
  },
  {
   "cell_type": "code",
   "execution_count": 10,
   "id": "a108dc79-0b37-4fd9-a14a-5a5d2768ff3d",
   "metadata": {},
   "outputs": [
    {
     "name": "stdout",
     "output_type": "stream",
     "text": [
      "['http_test', 'TESTING123D']\n"
     ]
    }
   ],
   "source": [
    "session = db.get_session()\n",
    "list_products()"
   ]
  },
  {
   "cell_type": "code",
   "execution_count": 11,
   "id": "e92ff1cd-2538-4f28-9ca6-101e8f8f7a1d",
   "metadata": {},
   "outputs": [
    {
     "data": {
      "text/plain": [
       "<AsyncResult: 1771d03d-d600-4dca-a41c-ee7a76ad41a1>"
      ]
     },
     "execution_count": 11,
     "metadata": {},
     "output_type": "execute_result"
    }
   ],
   "source": [
    "list_products.delay()"
   ]
  },
  {
   "cell_type": "code",
   "execution_count": null,
   "id": "5fe1f534-c5b0-4342-ab74-f2c32b83c526",
   "metadata": {},
   "outputs": [],
   "source": []
  }
 ],
 "metadata": {
  "kernelspec": {
   "display_name": "Python 3 (ipykernel)",
   "language": "python",
   "name": "python3"
  },
  "language_info": {
   "codemirror_mode": {
    "name": "ipython",
    "version": 3
   },
   "file_extension": ".py",
   "mimetype": "text/x-python",
   "name": "python",
   "nbconvert_exporter": "python",
   "pygments_lexer": "ipython3",
   "version": "3.9.2"
  }
 },
 "nbformat": 4,
 "nbformat_minor": 5
}
